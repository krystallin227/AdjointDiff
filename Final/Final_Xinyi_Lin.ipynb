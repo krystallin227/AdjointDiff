{
 "cells": [
  {
   "cell_type": "code",
   "execution_count": 16,
   "metadata": {},
   "outputs": [
    {
     "name": "stdout",
     "output_type": "stream",
     "text": [
      "(0.12034016035460982, 0.007035652963691115)\n"
     ]
    }
   ],
   "source": [
    "import numpy as np\n",
    "\n",
    "def MC_Asian(S0, dividends, vols, K, r, T, num_paths, seed = 100):\n",
    "    \n",
    "    np.random.seed(seed)\n",
    "    N, M = len(S0), len(vols[0])\n",
    "    dt = T / M\n",
    "    Z = np.random.normal(size=(num_paths, N, M))\n",
    "    S = np.zeros((num_paths, N, M + 1))\n",
    "    S[:, :, 0] = S0\n",
    "\n",
    "    for m in range(1, M + 1):\n",
    "        vol_segment = vols[:, m - 1]\n",
    "        drift = (r - dividends - 0.5 * vol_segment**2) * dt\n",
    "        diffusion = vol_segment * np.sqrt(dt) * Z[:, :, m - 1]\n",
    "        S[:, :, m] = S[:, :, m - 1] * np.exp(drift + diffusion)\n",
    "\n",
    "    B_TM = np.mean(S[:, :, 1:] / S[:, :, 0, None], axis=1)\n",
    "    basket_values = np.mean(B_TM, axis = 1)\n",
    "    payoffs = np.maximum(basket_values - K, 0)\n",
    "    price = np.exp(-r * T) * np.mean(payoffs)\n",
    "    std = np.exp(-r * T) * np.std(payoffs) / np.sqrt(num_paths)\n",
    "    \n",
    "    return price, std\n",
    "\n",
    "def FDM(S0, dividends, vols, K, r, T, num_paths, eps):\n",
    "    N, M = len(S0), len(vols[0])\n",
    "    S0_sensi = []\n",
    "    price, _ = MC_Asian(S0, dividends, vols, K, r, T, num_paths)\n",
    "    \n",
    "    for i in range(N):\n",
    "        S0[i] += eps\n",
    "        new_price, _ = MC_Asian(S0, dividends, vols, K, r, T, num_paths)\n",
    "        S0[i] -= eps\n",
    "        S0_sensi.append((new_price - price) / eps)\n",
    "    \n",
    "    dividends_sensi = []\n",
    "    for i in range(N):\n",
    "        dividends[i] += eps\n",
    "        new_price, _ = MC_Asian(S0, dividends, vols, K, r, T, num_paths)\n",
    "        dividends[i] -= eps\n",
    "        dividends_sensi.append((new_price - price) / eps)\n",
    "    \n",
    "    vols_sensi = []\n",
    "    for i in range(N):\n",
    "        sensi = []\n",
    "        for j in range(M):\n",
    "            vols[i][j] += eps\n",
    "            new_price, _ = MC_Asian(S0, dividends, vols, K, r, T, num_paths)\n",
    "            vols[i][j] -= eps\n",
    "            sensi.append((new_price - price) / eps)\n",
    "        vols_sensi.append(sensi)\n",
    "    \n",
    "    return price, S0_sensi, dividends_sensi, vols_sensi \n",
    "        \n",
    "\n",
    "S0 = np.array([1.1, 1.2])\n",
    "dividends = np.array([0.01, 0.02])\n",
    "M = 10\n",
    "vols = np.array([[0.1] * M, [0.2] * M])\n",
    "\n",
    "T = 1\n",
    "r = 0.05\n",
    "K = 0.9\n",
    "num_paths = 100\n",
    "\n",
    "print(MC_Asian(S0, dividends, vols, K, r, T, num_paths))"
   ]
  },
  {
   "cell_type": "code",
   "execution_count": 39,
   "metadata": {},
   "outputs": [
    {
     "name": "stdout",
     "output_type": "stream",
     "text": [
      "Price: 0.12034016035460982\n",
      "Std Error: 0.007035652963691118\n",
      "dP/dS0: [0. 0.]\n",
      "dP/dd: [-0.25780168 -0.25893111]\n",
      "dP/dVol: [[-0.01777431  0.00162473  0.0134273   0.01370914  0.00886213 -0.00220983\n",
      "   0.0087681   0.00572098  0.00051839 -0.00379171]\n",
      " [ 0.04099275  0.00872421  0.01036431 -0.0034463  -0.00127604 -0.00138699\n",
      "  -0.00177295  0.00385868 -0.0036541  -0.00187849]]\n"
     ]
    }
   ],
   "source": [
    "import numpy as np\n",
    "\n",
    "def MC_Asian_AAD(S0, dividends, vols, K, r, T, num_paths, seed=100):\n",
    "    \"\"\"\n",
    "    Compute the price and AAD-based sensitivities for an Asian basket option\n",
    "    given by:\n",
    "        Payoff = exp(-rT)*max((1/M)*sum_{m=1}^M B(T_m) - K, 0)\n",
    "    where B(T_m) = (1/N)*sum_{i=1}^N exp(sum_{k=1}^m X_{i,k}) and\n",
    "    X_{i,k} = (r - d_i - 0.5*vol_{i,k}^2)*dt + vol_{i,k}*sqrt(dt)*Z_{i,k}.\n",
    "\n",
    "    Since the payoff is normalized by initial spots, dP/dS0 = 0.\n",
    "\n",
    "    Returns:\n",
    "    price: The estimated price\n",
    "    dPdDiv: partial derivatives w.r.t. each asset's dividend (shape: N)\n",
    "    dPdVol: partial derivatives w.r.t. each asset's vol steps (shape: N x M)\n",
    "    \"\"\"\n",
    "\n",
    "    np.random.seed(seed)\n",
    "    N, M = len(S0), vols.shape[1]\n",
    "    dt = T / M\n",
    "\n",
    "    # Generate random shocks\n",
    "    Z = np.random.normal(size=(num_paths, N, M))\n",
    "\n",
    "    # Preallocate arrays for X and exponentials\n",
    "    # X[i,m] = increment at step m for asset i\n",
    "    # We will store cumulative sums for convenience.\n",
    "    X = np.zeros((num_paths, N, M))\n",
    "    exp_sumX = np.zeros((num_paths, N, M))  # exp( sum_{k=1}^m X_{i,k} )\n",
    "\n",
    "    # Forward pass: compute X_{i,m} and exp sums\n",
    "    for m in range(M):\n",
    "        vol_segment = vols[:, m]\n",
    "        # X_{i,m} depends on d_i, sigma_{i,m}\n",
    "        # X_{i,m} = (r - d_i - 0.5*vol^2)*dt + vol*sqrt(dt)*Z\n",
    "        X[:, :, m] = (r - dividends - 0.5 * vol_segment**2)*dt + vol_segment*np.sqrt(dt)*Z[:, :, m]\n",
    "\n",
    "    # Compute cumulative exponentials:\n",
    "    # exp_sumX[i,m] = exp(X_{i,1} + X_{i,2} + ... + X_{i,m})\n",
    "    # In code: we do a cumulative sum of X along m, then exponentiate.\n",
    "    cumX = np.cumsum(X, axis=2)  # cumulative sum over time steps\n",
    "    exp_sumX = np.exp(cumX)      # element-wise exp\n",
    "\n",
    "    # Compute B(T_m) for each path and time m:\n",
    "    # B(T_m) = (1/N)*sum_i exp_sumX[i,m]\n",
    "    # shape of exp_sumX: (num_paths, N, M)\n",
    "    B_Tm = np.mean(exp_sumX, axis=1)  # (num_paths, M)\n",
    "\n",
    "    # Average over M:\n",
    "    avg_B = np.mean(B_Tm, axis=1)  # (num_paths,)\n",
    "\n",
    "    payoffs = np.maximum(avg_B - K, 0)\n",
    "    price = np.exp(-r*T)*np.mean(payoffs)\n",
    "    std = np.exp(-r*T)*np.std(payoffs)/np.sqrt(num_paths)\n",
    "\n",
    "    # If the payoff is zero (OTM), derivative is zero. We must handle pathwise:\n",
    "    # Derivatives only matter for paths with payoff>0.\n",
    "\n",
    "    in_the_money = (avg_B > K)\n",
    "    # dP/d(B(T_m)) = e^{-rT}*(1/M) if in the money, else 0\n",
    "    dP_dB = np.zeros((num_paths, M))\n",
    "    dP_dB[in_the_money, :] = np.exp(-r*T)*(1.0/M)\n",
    "\n",
    "    # Now, dB(T_m)/dX_{i,k}:\n",
    "    # B(T_m) = (1/N)*sum_i exp_sumX[i,m]\n",
    "    # = (1/N)*sum_i exp(cumX[i,m])\n",
    "    # dB(T_m)/dX_{i,k} = (1/N)*exp(cumX[i,m]) if k ≤ m else 0\n",
    "    # We'll propagate this back.\n",
    "\n",
    "    # dP/dX_{i,k} = sum_{m=k} dP/dB(T_m)*dB(T_m)/dX_{i,k}\n",
    "    #             = sum_{m=k} [ e^{-rT}*(1/M) * (1/N)*exp_sumX[i,m] ]\n",
    "    # for each path, asset i, and step k:\n",
    "    dP_dX = np.zeros((num_paths, N, M))\n",
    "    for m in range(M):\n",
    "        # For each m, dB(T_m)/dX_{i,k} = (1/N)*exp_sumX[i,m] if k ≤ m, else 0\n",
    "        # So we add contributions where k ≤ m.\n",
    "        # rearranging sum: for k in [0,m], add e^{-rT}*(1/M)*(1/N)*exp_sumX[i,m]\n",
    "        # We'll do a cumulative sum trick from the right:\n",
    "        # Just loop k from 0 to m:\n",
    "        factor = dP_dB[:, m][:, None]*(1.0/N)*exp_sumX[:, :, m]  # shape: (num_paths, N)\n",
    "        # Add this factor to all k ≤ m:\n",
    "        for k in range(m+1):\n",
    "            dP_dX[:, :, k] += factor\n",
    "\n",
    "    # Now apply chain rule for d_i and sigma_{i,k}:\n",
    "    # X_{i,k} = ... => dX_{i,k}/dd_i = -dt\n",
    "    # dX_{i,k}/d(sigma_{i,k}) = -sigma_{i,k}*dt + sqrt(dt)*Z_{i,k}\n",
    "\n",
    "    dPdDiv = np.zeros((N,))  # derivative w.r.t. each dividend d_i\n",
    "    dPdVol = np.zeros((N, M)) # derivative w.r.t. each vol sigma_{i,k}\n",
    "\n",
    "    for i in range(N):\n",
    "        for k in range(M):\n",
    "            # sum over paths:\n",
    "            # dP/dd_i = sum_paths dP/dX_{i,k} * dX_{i,k}/dd_i\n",
    "            # dX_{i,k}/dd_i = -dt\n",
    "            dPdDiv[i] += np.mean(dP_dX[:, i, k]*(-dt))\n",
    "            # dP/dsigma_{i,k} = mean_paths of dP/dX_{i,k}*( -sigma_{i,k}*dt + sqrt(dt)*Z_{i,k} )\n",
    "            dPdVol[i, k] = np.mean(dP_dX[:, i, k]*(-vols[i, k]*dt + np.sqrt(dt)*Z[:, i, k]))\n",
    "\n",
    "    # dP/dS0[i] = 0 due to normalization (can return zeros)\n",
    "    dPdS0 = np.zeros((N,))\n",
    "\n",
    "    return price, std, dPdS0, dPdDiv, dPdVol\n",
    "\n",
    "\n",
    "# Example usage matching the previous parameters:\n",
    "S0 = np.array([1.1, 1.2])\n",
    "dividends = np.array([0.01, 0.02])\n",
    "M = 10\n",
    "vols = np.array([[0.1]*M, [0.2]*M])\n",
    "T = 1\n",
    "r = 0.05\n",
    "K = 0.9\n",
    "num_paths = 100\n",
    "\n",
    "price, std, dPdS0, dPdDiv, dPdVol = MC_Asian_AAD(S0, dividends, vols, K, r, T, num_paths)\n",
    "print(\"Price:\", price)\n",
    "print(\"Std Error:\", std)\n",
    "print(\"dP/dS0:\", dPdS0)       # Should be near zero\n",
    "print(\"dP/dd:\", dPdDiv)       # Sensitivity w.r.t. dividends\n",
    "print(\"dP/dVol:\", dPdVol)     # Sensitivity w.r.t. each vol step\n"
   ]
  },
  {
   "cell_type": "code",
   "execution_count": 40,
   "metadata": {},
   "outputs": [],
   "source": [
    "price_fdm, S0_sensi_fdm, dividends_sensi_fdm, vols_sensi_fdm = FDM(S0, dividends, vols, K, r, T, num_paths, 1e-10)"
   ]
  },
  {
   "cell_type": "code",
   "execution_count": 44,
   "metadata": {},
   "outputs": [
    {
     "data": {
      "text/plain": [
       "[[-0.017774115512736444,\n",
       "  0.0016246726186608385,\n",
       "  0.013427453593450878,\n",
       "  0.013709172685949511,\n",
       "  0.008862216516192234,\n",
       "  -0.002209898930516374,\n",
       "  0.00876826389273333,\n",
       "  0.005720979245893432,\n",
       "  0.0005181965967437918,\n",
       "  -0.003791689184851066],\n",
       " [0.04099262596035658,\n",
       "  0.008724410083260636,\n",
       "  0.010364070712753914,\n",
       "  -0.0034465486020707203,\n",
       "  -0.0012763401446846956,\n",
       "  -0.0013869461135129768,\n",
       "  -0.001773026170326375,\n",
       "  0.0038585801220847316,\n",
       "  -0.0036541603076756246,\n",
       "  -0.0018783585797876867]]"
      ]
     },
     "execution_count": 44,
     "metadata": {},
     "output_type": "execute_result"
    }
   ],
   "source": [
    "vols_sensi_fdm"
   ]
  },
  {
   "cell_type": "code",
   "execution_count": 35,
   "metadata": {},
   "outputs": [
    {
     "data": {
      "text/plain": [
       "[[-0.017774115512736444,\n",
       "  0.0016246726186608385,\n",
       "  0.013427453593450878,\n",
       "  0.013709172685949511,\n",
       "  0.008862216516192234,\n",
       "  -0.002209898930516374,\n",
       "  0.00876826389273333,\n",
       "  0.005720979245893432,\n",
       "  0.0005181965967437918,\n",
       "  -0.003791689184851066],\n",
       " [0.04099262596035658,\n",
       "  0.008724410083260636,\n",
       "  0.010364070712753914,\n",
       "  -0.0034465486020707203,\n",
       "  -0.0012763401446846956,\n",
       "  -0.0013869461135129768,\n",
       "  -0.001773026170326375,\n",
       "  0.0038585801220847316,\n",
       "  -0.0036541603076756246,\n",
       "  -0.0018783585797876867]]"
      ]
     },
     "execution_count": 35,
     "metadata": {},
     "output_type": "execute_result"
    }
   ],
   "source": [
    "vols_sensi_fdm"
   ]
  },
  {
   "cell_type": "code",
   "execution_count": 36,
   "metadata": {},
   "outputs": [
    {
     "data": {
      "text/plain": [
       "array([[-1.31988561e-03,  7.79543194e-03,  6.53280127e-03,\n",
       "         4.73371001e-03,  2.55559065e-03,  1.50460852e-03,\n",
       "         1.63100827e-03,  1.15030824e-03, -1.31185854e-04,\n",
       "         1.58206014e-04],\n",
       "       [ 7.16998730e-02,  1.88040983e-01,  1.56449246e-03,\n",
       "        -3.55045585e-03,  1.13526995e-02, -3.66470694e-03,\n",
       "        -6.20071905e-04,  1.28822446e-03,  3.06494642e-03,\n",
       "         6.41789678e-03]])"
      ]
     },
     "execution_count": 36,
     "metadata": {},
     "output_type": "execute_result"
    }
   ],
   "source": [
    "vols_sensi_aad"
   ]
  },
  {
   "cell_type": "code",
   "execution_count": null,
   "metadata": {},
   "outputs": [],
   "source": []
  }
 ],
 "metadata": {
  "kernelspec": {
   "display_name": "base",
   "language": "python",
   "name": "python3"
  },
  "language_info": {
   "codemirror_mode": {
    "name": "ipython",
    "version": 3
   },
   "file_extension": ".py",
   "mimetype": "text/x-python",
   "name": "python",
   "nbconvert_exporter": "python",
   "pygments_lexer": "ipython3",
   "version": "3.11.9"
  }
 },
 "nbformat": 4,
 "nbformat_minor": 2
}
